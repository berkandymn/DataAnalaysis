{
 "cells": [
  {
   "cell_type": "markdown",
   "metadata": {},
   "source": [
    "# Kütüphanelerin eklenmesi"
   ]
  },
  {
   "cell_type": "code",
   "execution_count": null,
   "metadata": {},
   "outputs": [],
   "source": [
    "#kütüphaneler\n",
    "import pandas as pd\n",
    "import numpy as np\n",
    "import matplotlib.pyplot as plt\n",
    "import seaborn as sns \n",
    "\n",
    "import sklearn.metrics as mt\n",
    "from sklearn.model_selection import train_test_split, cross_val_score, GridSearchCV,cross_val_predict\n",
    "\n",
    "from sklearn import preprocessing\n",
    "from sklearn.pipeline import make_pipeline\n",
    "from sklearn.compose import make_column_transformer\n",
    "from sklearn.compose import make_column_selector\n",
    "\n",
    "#modeller\n",
    "from sklearn.discriminant_analysis import QuadraticDiscriminantAnalysis\n",
    "from sklearn.ensemble import AdaBoostClassifier, RandomForestClassifier\n",
    "from sklearn.gaussian_process import GaussianProcessClassifier\n",
    "from sklearn.naive_bayes import GaussianNB\n",
    "from sklearn.neighbors import KNeighborsClassifier\n",
    "from sklearn.neural_network import MLPClassifier\n",
    "from sklearn.svm import SVC\n",
    "from sklearn.tree import DecisionTreeClassifier\n",
    "\n",
    "from lightgbm import LGBMClassifier\n",
    "from catboost import CatBoostClassifier\n",
    "from xgboost import XGBClassifier"
   ]
  },
  {
   "cell_type": "markdown",
   "metadata": {},
   "source": [
    "# Verileri kaynağınan çekme ve Gözlemleme"
   ]
  },
  {
   "cell_type": "code",
   "execution_count": null,
   "metadata": {},
   "outputs": [],
   "source": [
    "#pandas ile .csv formatındaki veriyi okuyalım\n",
    "veriler=pd.read_csv('medicaldataset.csv')\n",
    "veriler.head()"
   ]
  },
  {
   "cell_type": "markdown",
   "metadata": {},
   "source": [
    "Veri setinin özelliklerine göz atalım"
   ]
  },
  {
   "cell_type": "code",
   "execution_count": null,
   "metadata": {},
   "outputs": [],
   "source": [
    "print(f'Shape of data: {veriler.shape}\\nNumber of Columns: {len(veriler.columns)}\\nSize of Dataset: {veriler.size}')"
   ]
  },
  {
   "cell_type": "code",
   "execution_count": null,
   "metadata": {},
   "outputs": [],
   "source": [
    "veriler.info()"
   ]
  },
  {
   "cell_type": "code",
   "execution_count": null,
   "metadata": {},
   "outputs": [],
   "source": [
    "#veri setinin her sütununa ait özet bilgileri\n",
    "veriler. describe()"
   ]
  },
  {
   "cell_type": "markdown",
   "metadata": {},
   "source": [
    "Her sutunda bulunan null veya eksik verileri gözlemleyelim"
   ]
  },
  {
   "cell_type": "code",
   "execution_count": null,
   "metadata": {},
   "outputs": [],
   "source": [
    "veriler.isna().sum()"
   ]
  },
  {
   "cell_type": "markdown",
   "metadata": {},
   "source": [
    "Her sütuna ait eşsiz tekrar etmeyen verilerin sayılarına bakalım"
   ]
  },
  {
   "cell_type": "code",
   "execution_count": null,
   "metadata": {},
   "outputs": [],
   "source": [
    "for col in veriler.columns:\n",
    "    print('Unique data in', col, ':', veriler[col].value_counts().nunique())"
   ]
  },
  {
   "cell_type": "markdown",
   "metadata": {},
   "source": [
    "veri setini kopyalayalım ve tahmin edilecek bölümü ayıralım"
   ]
  },
  {
   "cell_type": "code",
   "execution_count": null,
   "metadata": {},
   "outputs": [],
   "source": [
    "cpVeriler=veriler.copy()\n",
    "cpVeriler.pop('Result')\n",
    "cpVeriler.head()"
   ]
  },
  {
   "cell_type": "markdown",
   "metadata": {},
   "source": [
    "daha önce sayısal veriye dönüştürülmüş cinsiyet alanını modelin anlayabilmesi için kategorig eriye çevirelim"
   ]
  },
  {
   "cell_type": "code",
   "execution_count": null,
   "metadata": {},
   "outputs": [],
   "source": [
    "def to_categorical(df):\n",
    "    cat_columns = [\n",
    "        'Gender',\n",
    "    ]\n",
    "    for i in cat_columns:\n",
    "        df[i] = pd.Categorical(df[i])\n",
    "    return df"
   ]
  },
  {
   "cell_type": "code",
   "execution_count": null,
   "metadata": {},
   "outputs": [],
   "source": [
    "to_categorical(cpVeriler).dtypes"
   ]
  },
  {
   "cell_type": "markdown",
   "metadata": {},
   "source": [
    "z-score kullanarak standart sapma ile aykırı verileri veri tabanından çıkaralım"
   ]
  },
  {
   "cell_type": "code",
   "execution_count": null,
   "metadata": {},
   "outputs": [],
   "source": [
    "def clear_outlier(df):\n",
    "    for column in df.select_dtypes(exclude='category').columns:\n",
    "        upper_limit = df[column].mean() + 3*df[column].std()\n",
    "        lower_limit = df[column].mean() - 3*df[column].std()\n",
    "\n",
    "        df[column] = np.where(\n",
    "            df[column]>upper_limit,\n",
    "            upper_limit,\n",
    "            np.where(\n",
    "                df[column]<lower_limit,\n",
    "                lower_limit,\n",
    "                df[column]\n",
    "            )\n",
    "        )\n",
    "    return df"
   ]
  },
  {
   "cell_type": "code",
   "execution_count": null,
   "metadata": {},
   "outputs": [],
   "source": [
    "clear_outlier(cpVeriler)"
   ]
  },
  {
   "cell_type": "markdown",
   "metadata": {},
   "source": [
    "# Veri Görselleştirme"
   ]
  },
  {
   "cell_type": "markdown",
   "metadata": {},
   "source": [
    "Kalp krizi verilerinin pozitif ve negatif sonuçlarının birbirine oranına bakalım"
   ]
  },
  {
   "cell_type": "code",
   "execution_count": null,
   "metadata": {},
   "outputs": [],
   "source": [
    "plt.pie(\n",
    "    veriler['Result'].value_counts(),\n",
    "    labels=['Positive', 'Negative'],\n",
    "    explode=[0, 0.1],\n",
    "    autopct='%.0f%%'\n",
    ")"
   ]
  },
  {
   "cell_type": "markdown",
   "metadata": {},
   "source": [
    "Veri seti içerisinde bulunan metinsel veriyi sayısal veriye dönüştürelim"
   ]
  },
  {
   "cell_type": "code",
   "execution_count": null,
   "metadata": {},
   "outputs": [],
   "source": [
    "le=preprocessing.LabelEncoder()\n",
    "ohe=preprocessing.OneHotEncoder()\n",
    "\n",
    "result=veriler.iloc[:,-1:].values\n",
    "result[:,0]=le.fit_transform(veriler.iloc[:,-1])\n",
    "result=ohe.fit_transform(result).toarray()\n",
    "veri=veriler.iloc[:,0:8].values\n"
   ]
  },
  {
   "cell_type": "code",
   "execution_count": null,
   "metadata": {},
   "outputs": [],
   "source": [
    "data=pd.DataFrame(data=veri,index=range(1319),columns=['Age','Gender','Heart rate','Systolic blood pressure','Diastolic blood pressure','Blood sugar','CK-MB','Troponin'])\n",
    "tahmindata=pd.DataFrame(data=result[:,-1],index=range(1319),columns=['Positive'])\n",
    "tumVeri=pd.concat([data,tahmindata],axis=1)"
   ]
  },
  {
   "cell_type": "markdown",
   "metadata": {},
   "source": [
    "tümverilerin bir tabloda birbirine oranına bakalım"
   ]
  },
  {
   "cell_type": "code",
   "execution_count": null,
   "metadata": {},
   "outputs": [],
   "source": [
    "sns.pairplot(tumVeri)"
   ]
  },
  {
   "cell_type": "code",
   "execution_count": null,
   "metadata": {},
   "outputs": [],
   "source": [
    "sns.heatmap(tumVeri.corr())"
   ]
  },
  {
   "cell_type": "markdown",
   "metadata": {},
   "source": [
    "Hazırladığımız veri setine bir Pipeline kuralım. Bu pipeline ile verileri veri ön işleme, modeli eğitme sonuçları görüntüleme gibi adımları içerir."
   ]
  },
  {
   "cell_type": "markdown",
   "metadata": {},
   "source": [
    "# Pipeline"
   ]
  },
  {
   "cell_type": "code",
   "execution_count": null,
   "metadata": {},
   "outputs": [],
   "source": [
    "cat_cs = make_column_selector(dtype_include='category')\n",
    "\n",
    "cat_ohe = preprocessing.OneHotEncoder(sparse_output=False, drop='if_binary').set_output(transform='pandas')\n",
    "cat_pipeline = make_pipeline(cat_ohe)\n",
    "\n",
    "\n",
    "num_cs = make_column_selector(dtype_exclude='category')\n",
    "\n",
    "num_scl = preprocessing.StandardScaler().set_output(transform='pandas')\n",
    "num_pipeline = make_pipeline(num_scl)\n",
    "\n",
    "col_t = make_column_transformer(\n",
    "    (num_pipeline, num_cs),\n",
    "    (cat_pipeline, cat_cs)\n",
    ")"
   ]
  },
  {
   "cell_type": "code",
   "execution_count": null,
   "metadata": {},
   "outputs": [],
   "source": [
    "preprocess = make_pipeline(\n",
    "    preprocessing.FunctionTransformer(to_categorical),\n",
    "    preprocessing.FunctionTransformer(clear_outlier),\n",
    "    col_t\n",
    ")\n",
    "\n",
    "preprocess.set_output(transform='pandas')"
   ]
  },
  {
   "cell_type": "markdown",
   "metadata": {},
   "source": [
    "# Model Seçimi"
   ]
  },
  {
   "cell_type": "markdown",
   "metadata": {},
   "source": [
    "Kulanmak istediğimiz modelleri hazırlayalım"
   ]
  },
  {
   "cell_type": "code",
   "execution_count": null,
   "metadata": {},
   "outputs": [],
   "source": [
    "X = tumVeri.copy()\n",
    "y = X.pop(\"Positive\")\n",
    "print(tumVeri)"
   ]
  },
  {
   "cell_type": "code",
   "execution_count": null,
   "metadata": {},
   "outputs": [],
   "source": [
    "models = {\n",
    "    \"AdaBoost\": {\n",
    "        'model': AdaBoostClassifier()\n",
    "    },\n",
    "    \"Random Forest\": {\n",
    "        'model': RandomForestClassifier(verbose=False)\n",
    "    },\n",
    "    \"QDA\": {\n",
    "        'model': QuadraticDiscriminantAnalysis()\n",
    "    },\n",
    "    \"Neural Net\": {\n",
    "        'model': MLPClassifier(verbose=False)\n",
    "    },\n",
    "    \"RBF SVM\": {\n",
    "        'model': SVC(verbose=False)\n",
    "    },\n",
    "    \"Gaussian Process\": {\n",
    "        'model': GaussianProcessClassifier()\n",
    "    },\n",
    "    \"Linear SVM\": {\n",
    "        'model': SVC(kernel=\"linear\", verbose=False)\n",
    "    },\n",
    "    \"LGBM\": {\n",
    "        'model': LGBMClassifier(verbose=0)\n",
    "    },\n",
    "    \"Decision Tree\": {\n",
    "        'model': DecisionTreeClassifier()\n",
    "    },\n",
    "    \"CatBoost\": {\n",
    "        'model': CatBoostClassifier(verbose=False)\n",
    "    },\n",
    "    \"Naive Bayes\": {\n",
    "        'model': GaussianNB()\n",
    "    },\n",
    "    \"XGB\": {\n",
    "        'model': XGBClassifier()\n",
    "    },\n",
    "    \"Nearest Neighbors\": {\n",
    "        'model': KNeighborsClassifier()\n",
    "    }\n",
    "}"
   ]
  },
  {
   "cell_type": "markdown",
   "metadata": {},
   "source": [
    "Hazırladığımızı modellerin eğitim işlemini gerçekleştirelim."
   ]
  },
  {
   "cell_type": "code",
   "execution_count": null,
   "metadata": {},
   "outputs": [],
   "source": [
    "for model in models:\n",
    "    print('----------------------------------')\n",
    "    print(f'{model} is training...')\n",
    "\n",
    "    model_pipeline = make_pipeline(preprocess, models[model]['model'])\n",
    "    scores = cross_val_score(model_pipeline, X, y, cv=5, scoring='accuracy')\n",
    "    print(cross_val_predict(model_pipeline, X, y, cv=5))\n",
    "    models[model]['ACC'] = scores"
   ]
  },
  {
   "cell_type": "markdown",
   "metadata": {},
   "source": [
    "Tüm modeller eğitildikten sonra hepsinin doğruluk değelerini hesaplayalım"
   ]
  },
  {
   "cell_type": "code",
   "execution_count": null,
   "metadata": {},
   "outputs": [],
   "source": [
    "for model in models:\n",
    "    print('------------------------------------')\n",
    "    print(f\"{model}\\nAccuracy CV 5: {models[model]['ACC']}\\nAccuarcy Mean: {models[model]['ACC'].mean()}\")"
   ]
  },
  {
   "cell_type": "markdown",
   "metadata": {},
   "source": [
    "Hesapladığımız doğrulukdeğerlerini bir dataframe olarak görüntüleyelim"
   ]
  },
  {
   "cell_type": "code",
   "execution_count": null,
   "metadata": {},
   "outputs": [],
   "source": [
    "plot_df = pd.DataFrame({'Model': [], 'ACC': []})\n",
    "for model in models:\n",
    "    plot_df.loc[len(plot_df.index)] = [model, models[model]['ACC'].mean()]"
   ]
  },
  {
   "cell_type": "markdown",
   "metadata": {},
   "source": [
    "Doğruluk değerlerini bir sütun grafiği ile gösrel bir şekilde karşılaştıralım"
   ]
  },
  {
   "cell_type": "code",
   "execution_count": null,
   "metadata": {},
   "outputs": [],
   "source": [
    "fig, axs = plt.subplots(1, 1, figsize=(10, 8))\n",
    "\n",
    "sns.barplot(x='Model', y='ACC', data=plot_df, ax=axs)\n",
    "axs.set_title(f'Model Doğruluk Grafiği')\n",
    "axs.set_xticklabels(axs.get_xticklabels(), rotation=45)\n",
    "for p in axs.patches:\n",
    "    height = p.get_height()\n",
    "    width = p.get_x() + p.get_width() / 2.\n",
    "    axs.text(width, height, f'{height:.2f}', ha='center', va='top', rotation=90, fontsize=8, color='white')\n",
    "\n",
    "\n",
    "plt.tight_layout()\n",
    "plt.show()"
   ]
  }
 ],
 "metadata": {
  "kernelspec": {
   "display_name": "Python 3",
   "language": "python",
   "name": "python3"
  },
  "language_info": {
   "codemirror_mode": {
    "name": "ipython",
    "version": 3
   },
   "file_extension": ".py",
   "mimetype": "text/x-python",
   "name": "python",
   "nbconvert_exporter": "python",
   "pygments_lexer": "ipython3",
   "version": "3.11.7"
  }
 },
 "nbformat": 4,
 "nbformat_minor": 2
}
